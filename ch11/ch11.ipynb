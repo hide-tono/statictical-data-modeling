{
 "cells": [
  {
   "cell_type": "markdown",
   "metadata": {},
   "source": [
    "# 11 空間構造のある階層ベイズモデル"
   ]
  },
  {
   "cell_type": "markdown",
   "metadata": {},
   "source": [
    "## 11.1 例題:一次元空間上の個体数分布\n",
    "## 11.2 階層ベイズモデルに空間構造をくみこむ\n",
    "### 11.2.1 空間構造のない階層事前分布\n",
    "### 11.2.2 空間構造のある階層事前分布\n",
    "## 11.3 空間統計モデルをデータにあてはめる\n",
    "## 11.4 空間統計モデルが作りだす確率場\n",
    "## 11.5 空間相関モデルと欠測のある観測データ\n",
    "## 11.6 この章のまとめと参考文献"
   ]
  }
 ],
 "metadata": {
  "anaconda-cloud": {},
  "kernelspec": {
   "display_name": "Python [conda root]",
   "language": "python",
   "name": "conda-root-py"
  },
  "language_info": {
   "codemirror_mode": {
    "name": "ipython",
    "version": 3
   },
   "file_extension": ".py",
   "mimetype": "text/x-python",
   "name": "python",
   "nbconvert_exporter": "python",
   "pygments_lexer": "ipython3",
   "version": "3.5.2"
  }
 },
 "nbformat": 4,
 "nbformat_minor": 1
}
