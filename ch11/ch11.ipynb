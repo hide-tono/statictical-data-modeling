{
 "cells": [
  {
   "cell_type": "markdown",
   "metadata": {},
   "source": [
    "# 11 空間構造のある階層ベイズモデル\n",
    "\n",
    "今までは場所差は独立して決まるものと仮定してきた。\n",
    "\n",
    "**空間相関**…隣り合った場所の類似性を考慮する。"
   ]
  },
  {
   "cell_type": "markdown",
   "metadata": {},
   "source": [
    "## 11.1 例題:一次元空間上の個体数分布\n",
    "\n",
    "調査区画をjとし、左から1,2,...50とする\n",
    "\n",
    "区画上の種子数を取るとなだらかに変化している。\n",
    "\n",
    "## 11.2 階層ベイズモデルに空間構造をくみこむ\n",
    "\n",
    "共通の平均個体数\\\\( \\lambda \\\\)のポワソン分布に従うと仮定した場合に標本平均10.9に対し標本分散が27.4にもなってしまう。\n",
    "\n",
    "区画jごとに平均\\\\( \\lambda_i \\\\)が異なっているとする。しかし、全ての\\\\( \\lambda_i \\\\)を最尤推定するのはデータの読み上げになってしまう。\n",
    "\n",
    "そこで、全体に共通する大域的な密度(\\\\( \\beta \\\\))と局所的な差異(\\\\( \\lambda \\\\))を同時に組み込むために、以下のようにあらわす\n",
    "\n",
    "$$ log\\lambda_j = \\beta + r_j $$\n",
    "\n",
    "### 11.2.1 空間構造のない階層事前分布\n",
    "\n",
    "10章の階層事前分布\n",
    "\n",
    "$$ p(r_i | s ) = \\frac{1}{\\sqrt{2\\pi s^2}} exp \\biggl(\\frac{-r_i^2}{2s^2}\\biggr) $$\n",
    "\n",
    "だと、場所差\\\\( r_i \\\\)が独立になってしまう。\n",
    "\n",
    "### 11.2.2 空間構造のある階層事前分布\n",
    "## 11.3 空間統計モデルをデータにあてはめる\n",
    "## 11.4 空間統計モデルが作りだす確率場\n",
    "## 11.5 空間相関モデルと欠測のある観測データ\n",
    "## 11.6 この章のまとめと参考文献"
   ]
  },
  {
   "cell_type": "code",
   "execution_count": null,
   "metadata": {
    "collapsed": true
   },
   "outputs": [],
   "source": []
  }
 ],
 "metadata": {
  "anaconda-cloud": {},
  "kernelspec": {
   "display_name": "Python [conda root]",
   "language": "python",
   "name": "conda-root-py"
  },
  "language_info": {
   "codemirror_mode": {
    "name": "ipython",
    "version": 3
   },
   "file_extension": ".py",
   "mimetype": "text/x-python",
   "name": "python",
   "nbconvert_exporter": "python",
   "pygments_lexer": "ipython3",
   "version": "3.5.2"
  }
 },
 "nbformat": 4,
 "nbformat_minor": 1
}
