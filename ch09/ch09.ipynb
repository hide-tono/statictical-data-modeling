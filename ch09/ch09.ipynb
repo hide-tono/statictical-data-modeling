{
 "cells": [
  {
   "cell_type": "markdown",
   "metadata": {},
   "source": [
    "# 9 GLMのベイズモデル化と事後分布の推定"
   ]
  },
  {
   "cell_type": "markdown",
   "metadata": {},
   "source": [
    "## 9.1 例題：種子数のポアソン回帰（個体差なし）\n",
    "第3章の例題と同じ。個体ごとの平均種子数が体サイズ\\\\( x_i \\\\)にどのように依存しているかを調べる。\n",
    "\n",
    "個体差は存在しないので、単にポワソン分布で表現できる。"
   ]
  },
  {
   "cell_type": "markdown",
   "metadata": {},
   "source": [
    "## 9.2 GLMのベイズモデル化\n",
    "\n",
    "* 個体\\\\( i \\\\)の種子数\\\\( y_i \\\\)のばらつきを平均\\\\( \\lambda_i \\\\)のポアソン分布\\\\( p(y_i|\\lambda_i) \\\\)に従うとする\n",
    "* 線型予測子と対数リンク関数を使って、この平均を\\\\( \\lambda_i=exp(\\beta_1 + \\beta_2x_i) \\\\)と指定する\n",
    "* 個体差はないのでランダム効果の項はなし\n",
    "\n",
    "このモデルの尤度関数は\n",
    "\n",
    "$$ L(\\beta_1, \\beta_2) = \\prod_ip(y_i|\\lambda_i) = \\prod_ip(y_i|\\beta_1 + \\beta_2x_i) $$\n",
    "\n",
    "パラメーター\\\\( \\\\{\\beta_1, \\beta_2\\\\} \\\\)がある値を取るときに\\\\( {\\bf Y} \\\\)が得られる確率は、\\\\( p({\\bf Y}|\\beta_1, \\beta_2)=L(\\beta_1, \\beta_2) \\\\)となる"
   ]
  },
  {
   "cell_type": "markdown",
   "metadata": {},
   "source": [
    "## 9.3 無情報事前分布"
   ]
  },
  {
   "cell_type": "markdown",
   "metadata": {},
   "source": [
    "## 9.4 ベイズ統計モデルの事後分布の推定\n",
    "### 9.4.1 ベイズ統計モデルのコーディング\n",
    "### 9.4.2 事後分布推定の準備\n",
    "### 9.4.3 どれだけ長くMCMCサンプリングすればいいのか？"
   ]
  },
  {
   "cell_type": "markdown",
   "metadata": {},
   "source": [
    "## 9.5 MCMCサンプルから事後分布を推定\n",
    "### 9.5.1 事後分布の統計量"
   ]
  },
  {
   "cell_type": "markdown",
   "metadata": {},
   "source": [
    "## 9.6 複数パラメーターのMCMCサンプリング\n",
    "### 9.6.1 ギブスサンプリング：この章の例題の場合\n",
    "### 9.6.2 WinBUGSの挙動はどうなっている？"
   ]
  },
  {
   "cell_type": "code",
   "execution_count": null,
   "metadata": {
    "collapsed": true
   },
   "outputs": [],
   "source": []
  }
 ],
 "metadata": {
  "anaconda-cloud": {},
  "kernelspec": {
   "display_name": "Python [conda root]",
   "language": "python",
   "name": "conda-root-py"
  },
  "language_info": {
   "codemirror_mode": {
    "name": "ipython",
    "version": 3
   },
   "file_extension": ".py",
   "mimetype": "text/x-python",
   "name": "python",
   "nbconvert_exporter": "python",
   "pygments_lexer": "ipython3",
   "version": "3.5.2"
  }
 },
 "nbformat": 4,
 "nbformat_minor": 1
}
