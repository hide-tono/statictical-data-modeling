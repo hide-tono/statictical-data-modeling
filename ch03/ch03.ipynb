{
 "cells": [
  {
   "cell_type": "markdown",
   "metadata": {},
   "source": [
    "ch02...平均種子数\\\\( \\lambda \\\\)は変化しない\n",
    "ch03...平均種子数\\\\( \\lambda \\\\)が変化する\n",
    "\n",
    "ch03はポワソン回帰を用いて当てはめる。\n",
    "\n",
    "このような統計モデルを一般化線形モデル(GLM)という\n"
   ]
  },
  {
   "cell_type": "markdown",
   "metadata": {},
   "source": [
    "## 3.2 観測されたデータの概要を調べる\n",
    "* y:種子数\n",
    "* x:体サイズ\n",
    "* f 施肥処理の値"
   ]
  },
  {
   "cell_type": "code",
   "execution_count": 2,
   "metadata": {
    "collapsed": false
   },
   "outputs": [
    {
     "name": "stdout",
     "output_type": "stream",
     "text": [
      "<class 'pandas.core.frame.DataFrame'>\n",
      "RangeIndex: 100 entries, 0 to 99\n",
      "Data columns (total 3 columns):\n",
      "y    100 non-null int64\n",
      "x    100 non-null float64\n",
      "f    100 non-null object\n",
      "dtypes: float64(1), int64(1), object(1)\n",
      "memory usage: 2.4+ KB\n",
      "None\n",
      "----\n",
      "                y           x\n",
      "count  100.000000  100.000000\n",
      "mean     7.830000   10.089100\n",
      "std      2.624881    1.008049\n",
      "min      2.000000    7.190000\n",
      "25%      6.000000    9.427500\n",
      "50%      8.000000   10.155000\n",
      "75%     10.000000   10.685000\n",
      "max     15.000000   12.400000\n",
      "----\n",
      "count     100\n",
      "unique      2\n",
      "top         T\n",
      "freq       50\n",
      "Name: f, dtype: object\n"
     ]
    }
   ],
   "source": [
    "from __future__ import division, print_function, absolute_import, unicode_literals\n",
    "import numpy as np\n",
    "import pandas as pd\n",
    "import matplotlib.pyplot as plt\n",
    "from scipy import stats\n",
    " \n",
    "d = pd.read_csv('data3a.csv')\n",
    " \n",
    "#print(d)\n",
    "print(d.info())\n",
    "print('----')\n",
    "print(d.describe())\n",
    "print('----')\n",
    "print(d.f.describe())"
   ]
  },
  {
   "cell_type": "markdown",
   "metadata": {},
   "source": [
    "## 3.3 統計モデリングの前にデータを図示する"
   ]
  },
  {
   "cell_type": "code",
   "execution_count": 3,
   "metadata": {
    "collapsed": false,
    "scrolled": true
   },
   "outputs": [
    {
     "data": {
      "image/png": "[encoded data removed]",
      "text/plain": [
       "<matplotlib.figure.Figure at 0x1160fe978>"
      ]
     },
     "metadata": {},
     "output_type": "display_data"
    }
   ],
   "source": [
    "plt.scatter(d.x[d.f=='C'], d.y[d.f=='C'], label='C', facecolors='none')\n",
    "plt.scatter(d.x[d.f=='T'], d.y[d.f=='T'], label='T')\n",
    "plt.legend(loc='upper left')\n",
    "plt.xlabel('x')\n",
    "plt.ylabel('y')\n",
    "plt.show()"
   ]
  },
  {
   "cell_type": "code",
   "execution_count": 4,
   "metadata": {
    "collapsed": false
   },
   "outputs": [
    {
     "data": {
      "image/png": "[encoded data removed]",
      "text/plain": [
       "<matplotlib.figure.Figure at 0x10c4de898>"
      ]
     },
     "metadata": {},
     "output_type": "display_data"
    }
   ],
   "source": [
    "plt.boxplot([d.y[d.f=='C'], d.y[d.f=='T']], labels=['C', 'T'])\n",
    "plt.show()"
   ]
  },
  {
   "cell_type": "markdown",
   "metadata": {},
   "source": [
    "* 上記を見ると、体サイズxが増加するに連れ種子数yが増えているように見えるが、あまりはっきりしない。\n",
    "* 白丸は施肥処理なし(C)黒丸は施肥処理あり(T)。施肥処理の有無は種子数に関係ないようにみえる。"
   ]
  },
  {
   "cell_type": "markdown",
   "metadata": {},
   "source": [
    "## 3.4 ポアソン回帰の統計モデル\n",
    "ポワソン分布は\n",
    "\n",
    "$$ p(y|\\lambda) = \\frac{\\lambda^yexp(-\\lambda)}{y!} $$\n",
    "\n",
    "個体ごとに平均種子数が変化するので、\n",
    "ある個体\\\\( i \\\\)において種子数が\\\\( y_i \\\\)である確率\\\\( p(y_i|\\lambda_i) \\\\)は\n",
    "\n",
    "$$ p(y_i|\\lambda_i) = \\frac{\\lambda_i^yexp(-\\lambda_i)}{y_i!} $$\n",
    "\n",
    "### 3.4.1 線形予測子と対数リンク関数\n",
    "\n",
    "\\\\( \\lambda_i \\\\)を説明変数\\\\( x_i \\\\)の関数として定義しなければならない。下記と仮定する。\n",
    "\n",
    "$$ \\lambda_i = exp(\\beta_1 + \\beta_2x_i) $$\n",
    "$$ \\rightarrow log\\lambda_i = \\beta_1 + \\beta_2x_i $$\n",
    "\n",
    "この時の右辺\\\\( \\beta_1 + \\beta_2x_i  \\\\)を**線形予測子**という。\n",
    "\n",
    "(\\\\( \\lambda_i =  \\\\))(線形予測子)となっている場合、左辺の「関数」は**リンク関数**と呼ばれる。\n",
    "\n",
    "対数の場合は**対数リンク関数**と呼ばれ、数学的に都合の良い性質があるためポワソン分布の**正準リンク関数**という。\n",
    "\n",
    "### 3.4.2 あてはめとあてはまりの良さ\n",
    "\n",
    "ポワソン回帰とは、**観測データに対するポアソン分布を使った統計モデルのあてはめ(fitting)**\n",
    "\n",
    "この統計モデルの対数尤度\\\\( logL \\\\)が最大になるパラメータ\\\\( \\hat{\\beta_1} \\\\)と\\\\( \\hat{\\beta_2} \\\\)の推定値を決めることでもある。\n",
    "\n",
    "このモデルの対数尤度は\n",
    "\n",
    "$$ logL(\\beta_1,\\beta_2) = \\sum_ilog \\frac{\\lambda_i^yexp(-\\lambda_i)}{y_i!} $$\n",
    "となる。"
   ]
  },
  {
   "cell_type": "code",
   "execution_count": 5,
   "metadata": {
    "collapsed": false,
    "scrolled": true
   },
   "outputs": [
    {
     "data": {
      "image/png": "[encoded data removed]",
      "text/plain": [
       "<matplotlib.figure.Figure at 0x10c4de5f8>"
      ]
     },
     "metadata": {},
     "output_type": "display_data"
    }
   ],
   "source": [
    "#ポワソン回帰のモデル\n",
    "x = np.arange(-4, 4, 0.01)\n",
    " \n",
    "fig = plt.figure()\n",
    "ax = fig.add_subplot(111)\n",
    " \n",
    "ax.plot(x, np.exp(-1 + 0.4 * x), label='{-1, 0.4}')\n",
    "ax.plot(x, np.exp(-2 + -0.8 * x), label='{-2, 0.8}')\n",
    "ax.legend(title='{B1, B2}')\n",
    "ax.set_ylim(0, 2.8)\n",
    "ax.set_xlabel('body size x_i of i')\n",
    "ax.set_ylabel('lambda_i of i')\n",
    "plt.show()"
   ]
  },
  {
   "cell_type": "code",
   "execution_count": 7,
   "metadata": {
    "collapsed": false
   },
   "outputs": [
    {
     "data": {
      "image/png": "[encoded data removed]",
      "text/plain": [
       "<matplotlib.figure.Figure at 0x11946a208>"
      ]
     },
     "metadata": {},
     "output_type": "display_data"
    }
   ],
   "source": [
    "fig = plt.figure()\n",
    "ax = fig.add_subplot(111)\n",
    " \n",
    "ax.scatter(d.x[d.f=='C'], d.y[d.f=='C'], label='C', facecolors='none')\n",
    "ax.scatter(d.x[d.f=='T'], d.y[d.f=='T'], label='T')\n",
    " \n",
    "xx = np.arange(min(d.x), max(d.x), (max(d.x) - min(d.x)) / 100)\n",
    "ax.plot(xx, np.exp(1.29 + 0.0757 * xx))\n",
    " \n",
    "ax.set_xlabel('d.x')\n",
    "ax.set_ylabel('d.y')\n",
    "ax.legend(loc='upper left')\n",
    "plt.show()"
   ]
  },
  {
   "cell_type": "code",
   "execution_count": null,
   "metadata": {
    "collapsed": true
   },
   "outputs": [],
   "source": []
  }
 ],
 "metadata": {
  "anaconda-cloud": {},
  "kernelspec": {
   "display_name": "Python 3",
   "language": "python",
   "name": "python3"
  },
  "language_info": {
   "codemirror_mode": {
    "name": "ipython",
    "version": 3
   },
   "file_extension": ".py",
   "mimetype": "text/x-python",
   "name": "python",
   "nbconvert_exporter": "python",
   "pygments_lexer": "ipython3",
   "version": "3.6.0"
  }
 },
 "nbformat": 4,
 "nbformat_minor": 1
}
