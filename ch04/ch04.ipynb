{
 "cells": [
  {
   "cell_type": "markdown",
   "metadata": {},
   "source": [
    "## 4.2 統計モデルのあてはまりの悪さ：逸脱度\n",
    "\n",
    "$$ D=-2logL\\ast $$\n",
    "\n",
    "\\\\( logL\\ast \\\\) は ** 最大対数尤度 **\n",
    "\n",
    "残差逸脱度(residual deviance)\n",
    "$$ D-(最小逸脱度) $$"
   ]
  },
  {
   "cell_type": "markdown",
   "metadata": {},
   "source": [
    "## 4.3 モデル選択基準AIC\n",
    "\n",
    "$$ AIC = -2\\{(最大対数尤度)-(最尤推定したパラメーター数)\\} $$\n",
    "$$ = -2(LogL\\ast -k) $$\n",
    "$$ = D+2k $$\n",
    "これが一番小さいモデルが良いモデル"
   ]
  },
  {
   "cell_type": "markdown",
   "metadata": {},
   "source": [
    "## 4.4 \n",
    "ネストしているモデル\n",
    "xモデルはx=0だと一定モデルになる。\n",
    "このようにパラメータ次第でそのモデルになる（包含している）関係を**ネスト**しているという。"
   ]
  },
  {
   "cell_type": "markdown",
   "metadata": {},
   "source": [
    "## 4.5 なぜAICでモデル選択してよいのか？\n",
    "### 4.5.1 統計モデルの予測の良さ：平均対数尤度\n",
    "真のモデルから200セットの観測データを生成して、それらの対数尤度の平均を出す。\n",
    "この平均対数尤度を\n",
    "$$ E(logL) $$\n",
    "と表す\n",
    "\n",
    "### 4.5.2 最大対数尤度のバイアス補正\n",
    "\n",
    "平均対数尤度を出す -> 評価 を繰り返す。\n",
    "\n",
    "評価は差:バイアスbを出す。\n",
    "\n",
    "$$ b=logL\\ast - E(LogL) $$\n",
    "\n",
    "普通は\\\\( E(LogL) \\\\)の値が分からん\n",
    "$$ E(LogL) = b - logL\\ast $$\n",
    "\n",
    "最尤推定するパラメーターをk個持つモデルの平均対数尤度の推定量は\\\\( LogL\\ast -k \\\\)であることが解析的に導出されている。\n",
    "\n",
    "### 4.5.3 ネストしているGLM間のAIC比較\n",
    "\n",
    "ネストしているGLMだとバイアスbのバラつきは少なくなる。\n"
   ]
  },
  {
   "cell_type": "code",
   "execution_count": null,
   "metadata": {
    "collapsed": true
   },
   "outputs": [],
   "source": []
  }
 ],
 "metadata": {
  "anaconda-cloud": {},
  "kernelspec": {
   "display_name": "Python [conda root]",
   "language": "python",
   "name": "conda-root-py"
  },
  "language_info": {
   "codemirror_mode": {
    "name": "ipython",
    "version": 3
   },
   "file_extension": ".py",
   "mimetype": "text/x-python",
   "name": "python",
   "nbconvert_exporter": "python",
   "pygments_lexer": "ipython3",
   "version": "3.5.2"
  }
 },
 "nbformat": 4,
 "nbformat_minor": 1
}
