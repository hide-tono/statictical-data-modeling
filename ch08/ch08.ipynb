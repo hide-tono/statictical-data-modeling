{
 "cells": [
  {
   "cell_type": "markdown",
   "metadata": {},
   "source": [
    "# 8 マルコフ連鎖モンテカルロ(MCMC)法とベイズ統計モデル\n",
    "ランダム効果が\\\\( r_i \\\\)だけなら1回の積分で対数尤度を評価できるが、K個あったらK回の多重積分になる。\n",
    "\n",
    "このような複雑な統計モデルのあてはめで威力を発揮するのが**マルコフ連鎖モンテカルロ法(MCMC)。**"
   ]
  },
  {
   "cell_type": "markdown",
   "metadata": {},
   "source": [
    "## 8.1 例題：種子の生存確率（個体差なし）"
   ]
  },
  {
   "cell_type": "markdown",
   "metadata": {},
   "source": [
    "## 8.2 ふらふら試行錯誤による最尤推定"
   ]
  },
  {
   "cell_type": "markdown",
   "metadata": {},
   "source": [
    "## 8.3 MCMCアルゴリズムのひとつ：メトロポリス法\n",
    "### 8.3.1 メトロポリス法でサンプリングしてみる\n",
    "### 8.3.2 マルコフ連鎖の定常分布\n",
    "### 8.3.3 この定常分布は何をあらわす分布なのか？"
   ]
  },
  {
   "cell_type": "markdown",
   "metadata": {},
   "source": [
    "## 8.4 MCMCサンプリングとベイズ統計モデル"
   ]
  },
  {
   "cell_type": "markdown",
   "metadata": {},
   "source": [
    "## 8.5 補足説明\n",
    "### 8.5.1 メトロポリス法と定常分布の関係\n",
    "### 8.5.2 ベイズの定理"
   ]
  },
  {
   "cell_type": "markdown",
   "metadata": {},
   "source": [
    "## 8.6 この章のまとめと参考文献"
   ]
  },
  {
   "cell_type": "code",
   "execution_count": null,
   "metadata": {
    "collapsed": true
   },
   "outputs": [],
   "source": []
  }
 ],
 "metadata": {
  "anaconda-cloud": {},
  "kernelspec": {
   "display_name": "Python [conda root]",
   "language": "python",
   "name": "conda-root-py"
  },
  "language_info": {
   "codemirror_mode": {
    "name": "ipython",
    "version": 3
   },
   "file_extension": ".py",
   "mimetype": "text/x-python",
   "name": "python",
   "nbconvert_exporter": "python",
   "pygments_lexer": "ipython3",
   "version": "3.5.2"
  }
 },
 "nbformat": 4,
 "nbformat_minor": 1
}
