{
 "cells": [
  {
   "cell_type": "markdown",
   "metadata": {},
   "source": [
    "# 10 階層ベイズモデル\n",
    "\n",
    "階層事前分布を使って、GLMMを階層ベイズモデルとして扱う。\n",
    "\n",
    "個体差などを考慮するには、無情報事前分布ではなく階層事前分布が必要。\n",
    "\n",
    "## 10.1 例題:個体差と生存種子数(個体差あり)\n",
    "\n",
    "単に二項分布として考えると分散が9.93もある個体差のあるデータを使用する。"
   ]
  },
  {
   "cell_type": "markdown",
   "metadata": {},
   "source": [
    "## 10.2 GLMMの階層ベイズモデル化\n",
    "\n",
    "データが得られる確率は\n",
    "$$ p({\\bf y} | \\beta_i\\{r_i\\}) = \\binom{8}{y_i}q_i^{y_i}(1-q)^{8-y_i} $$\n",
    "推定したい事後分布は\n",
    "$$ 事後分布 \\propto p({\\bf Y} | \\beta_i\\{r_i\\}) \\times 事前分布 $$\n",
    "なので、事前分布を指定する必要がある。"
   ]
  },
  {
   "cell_type": "markdown",
   "metadata": {},
   "source": [
    "## 10.3 階層ベイズモデルの推定・予測\n",
    "### 10.3.1 階層ベイズモデルのMCMCサンプリング\n",
    "### 10.3.2 階層ベイズモデルの事後分布推定と予測\n"
   ]
  },
  {
   "cell_type": "markdown",
   "metadata": {},
   "source": [
    "## 10.4 ベイズモデルで使うさまざまな事前分布"
   ]
  },
  {
   "cell_type": "markdown",
   "metadata": {},
   "source": [
    "## 10.5 個体差+場所差の階層ベイズモデル"
   ]
  },
  {
   "cell_type": "markdown",
   "metadata": {},
   "source": [
    "## 10.6 この章のまとめと参考文献"
   ]
  }
 ],
 "metadata": {
  "anaconda-cloud": {},
  "kernelspec": {
   "display_name": "Python [conda root]",
   "language": "python",
   "name": "conda-root-py"
  },
  "language_info": {
   "codemirror_mode": {
    "name": "ipython",
    "version": 3
   },
   "file_extension": ".py",
   "mimetype": "text/x-python",
   "name": "python",
   "nbconvert_exporter": "python",
   "pygments_lexer": "ipython3",
   "version": "3.5.2"
  }
 },
 "nbformat": 4,
 "nbformat_minor": 1
}
