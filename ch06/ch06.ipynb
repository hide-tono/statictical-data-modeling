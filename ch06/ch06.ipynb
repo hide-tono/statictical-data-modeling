{
 "cells": [
  {
   "cell_type": "markdown",
   "metadata": {},
   "source": [
    "## 6.1 様々な種類のデータで応用できるGLM\n",
    "\n",
    "二項分布・ポワソン分布・正規分布を使うことが多い"
   ]
  },
  {
   "cell_type": "markdown",
   "metadata": {},
   "source": [
    "## 6.2 例題：上限のあるカウントデータ\n",
    "発芽、生存の確率。\n",
    "\n",
    "８個の種子から発芽する種子がどれくらいあるか見る。\n",
    "\n"
   ]
  },
  {
   "cell_type": "markdown",
   "metadata": {},
   "source": [
    "## 6.3 二項分布で表現する「あり・なし」カウントデータ\n",
    "\n",
    "「あり・なし」のカウントデータでは二項分布\n",
    "\n",
    "$$ p(y|N,q)= \\binom{ N }{ y } q^y(1-q)^{N-y} $$"
   ]
  },
  {
   "cell_type": "markdown",
   "metadata": {},
   "source": [
    "## 6.4 ロジスティック回帰とロジットリンク関数\n",
    "\n",
    "ロジスティック関数\n",
    "\n",
    "$$ q_i= logistic(z_i) = \\frac{1}{1+exp(-z_i)} $$\n",
    "\n",
    "変形すると\n",
    "\n",
    "$$ log\\frac{q_i}{1-q_i} = z_i $$\n",
    "\n",
    "これがロジット関数(logit function)"
   ]
  },
  {
   "cell_type": "code",
   "execution_count": null,
   "metadata": {
    "collapsed": true
   },
   "outputs": [],
   "source": []
  }
 ],
 "metadata": {
  "anaconda-cloud": {},
  "kernelspec": {
   "display_name": "Python [conda root]",
   "language": "python",
   "name": "conda-root-py"
  },
  "language_info": {
   "codemirror_mode": {
    "name": "ipython",
    "version": 3
   },
   "file_extension": ".py",
   "mimetype": "text/x-python",
   "name": "python",
   "nbconvert_exporter": "python",
   "pygments_lexer": "ipython3",
   "version": "3.5.2"
  }
 },
 "nbformat": 4,
 "nbformat_minor": 1
}
