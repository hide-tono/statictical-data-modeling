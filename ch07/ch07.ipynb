{
 "cells": [
  {
   "cell_type": "markdown",
   "metadata": {},
   "source": [
    "第６章までで説明してきたGLMは現実のデータ解析に応用できない。\n",
    "\n",
    "\\\\( \\because \\\\)実験・調査で得られたカウントデータのバラつきは、ポワソン分布や二項分布だけではうまく説明できない。全ての個体差を説明変数で表すことは不可能。\n",
    "\n",
    "そこで以下を用いる。\n",
    "\n",
    "**一般化線形混合モデル(generalized linear miexed model, GLMM)**「人間が測定できない・測定しなかった個体差」を組み込んだGLM。\n",
    "\n",
    "複数の確率分布を部品とする。\n",
    "* データのバラつきは二項分布・ポアソン分布\n",
    "* 個体のバラつきは正規分布\n",
    "\n",
    "というように表す。\n"
   ]
  },
  {
   "cell_type": "markdown",
   "metadata": {},
   "source": [
    "## 7.1 例題：GLMでは説明できないカウントデータ\n",
    "\n",
    "* 個体数：100\n",
    "* 個体iごとの調査種子数：8個\n",
    "* 生存していた種子数：\\\\( y_i \\\\)個\n",
    "* 葉数：\\\\( x_i \\in \\\\{2,3,4,5,6\\\\}各葉数ごとに20個体 \\\\)\n",
    "\n",
    "生存確率\\\\( q_i \\\\)を線形予測子とロジットリンク関数を組み合わせて、\n",
    "$$ logit(q_i) = \\beta_1 + \\beta_2x_i $$\n",
    "\n",
    "#### 補足：なぜ生存確率を線形予測子とロジットリンク関数の組み合わせとするか\n",
    "\n",
    "二項分布のリンク関数はロジットリンク関数で表すと都合が良いため。\n",
    "\n",
    "6.4節の要約。\n",
    "\n",
    "ロジスティック関数\n",
    "\n",
    "$$ q_i= logistic(z_i) = \\frac{1}{1+exp(-z_i)} $$\n",
    "\n",
    "変形すると\n",
    "\n",
    "$$ log\\frac{q_i}{1-q_i} = z_i $$\n",
    "\n",
    "これがロジット関数(logit function)\n",
    "\n",
    "$$ logit(q_i) = log\\frac{q_i}{1-q_i} $$\n",
    "\n",
    "これが線形予測子に等しいので、\n",
    "\n",
    "$$  \\begin{align}\n",
    "\\frac{q_i}{1-q_i} &= exp(線形予測子)\\\\\n",
    "&= exp(\\beta_1+\\beta_2x_i+\\beta_3f_i)\\\\\n",
    "&= exp(\\beta_1)exp(\\beta_2x_i)exp(\\beta_3f_i)\n",
    " \\end{align} $$\n",
    " \n",
    "\\\\( \\frac{q_i}{1-q_i} \\\\)はオッズと呼ばれ、\\\\( \\frac{生存する確率}{生存しない確率} \\\\)。これが\n",
    " \n",
    "* \\\\( exp(線形予測子)\\geqq 0 \\\\)なので推定計算に都合が良い\n",
    "* 要因の効果が積で表されるのでわかりやすい"
   ]
  },
  {
   "cell_type": "markdown",
   "metadata": {
    "collapsed": true
   },
   "source": [
    "$$ p(y_i | \\beta_1,\\beta_2)=\\binom{8}{y_i}q_i^{y_i}(1-q_i)^{8-y_i} $$"
   ]
  },
  {
   "cell_type": "markdown",
   "metadata": {},
   "source": [
    "## 7.2 過分散と個体差\n",
    "\n",
    "<code>\n",
    "> d <- read.csv(\"data.csv\")\n",
    "> d4 <- d[d$x == 4,]\n",
    "> table(d4$y)\n",
    "0 1 2 3 4 5 6 7 8 \n",
    "3 1 4 2 1 1 2 3 3 \n",
    "> c(mean(d4$y), var(d4$y))\n",
    "[1] 4.050000 8.365789\n",
    "</code>\n",
    "生存種子数\\\\( y_i \\\\)が二項分布に従うなら、その分散は8*0.5*(1-0.5)=2くらいになるはずだが、8.36になっている。\n",
    "\n",
    "-> このデータは二項分布と呼ぶにはバラつきが大きすぎ、二項分布では説明できない。これが**過分散**の状態\n",
    "\n",
    "### 個体差が極端な例\n",
    "\n",
    "生存種子数が0か8かというデータでやってみる。\n",
    "\n",
    "<code>\n",
    "> d2 <-read.csv(\"data2.csv\")\n",
    "> d24 <- d2[d2$x == 4,]\n",
    "> table(d24$y)\n",
    " 0  8 \n",
    "10 10 \n",
    "> c(mean(d24$y), var(d24$y))\n",
    "[1]  4.00000 16.84211\n",
    "</code>\n",
    "\n",
    "上記と同様平均種子数は4だが分散は16まで増えている。\n",
    "\n",
    "-> 全生存数/全調査種子数という割算をしても、これだけでは減少のパターンをうまく説明できない。\n",
    "\n",
    "#### 個体差？場所差？"
   ]
  },
  {
   "cell_type": "markdown",
   "metadata": {},
   "source": [
    "## 7.3 一般化線型混合モデル\n",
    "\n",
    "一般化線型混合モデル(GLMM)では個体差や場所差の効果を考慮した\n",
    "\n",
    "### "
   ]
  },
  {
   "cell_type": "code",
   "execution_count": null,
   "metadata": {
    "collapsed": false
   },
   "outputs": [],
   "source": []
  },
  {
   "cell_type": "code",
   "execution_count": null,
   "metadata": {
    "collapsed": true
   },
   "outputs": [],
   "source": []
  },
  {
   "cell_type": "code",
   "execution_count": null,
   "metadata": {
    "collapsed": true
   },
   "outputs": [],
   "source": []
  }
 ],
 "metadata": {
  "anaconda-cloud": {},
  "kernelspec": {
   "display_name": "Python [conda root]",
   "language": "python",
   "name": "conda-root-py"
  },
  "language_info": {
   "codemirror_mode": {
    "name": "ipython",
    "version": 3
   },
   "file_extension": ".py",
   "mimetype": "text/x-python",
   "name": "python",
   "nbconvert_exporter": "python",
   "pygments_lexer": "ipython3",
   "version": "3.5.2"
  }
 },
 "nbformat": 4,
 "nbformat_minor": 1
}
