{
 "cells": [
  {
   "cell_type": "markdown",
   "metadata": {},
   "source": [
    "第６章までで説明してきたGLMは現実のデータ解析に応用できない。\n",
    "\n",
    "\\\\( \\because \\\\)実験・調査で得られたカウントデータのバラつきは、ポワソン分布や二項分布だけではうまく説明できない。全ての個体差を説明変数で表すことは不可能。\n",
    "\n",
    "そこで以下を用いる。\n",
    "\n",
    "**一般化線形混合モデル(generalized linear miexed model, GLMM)**「人間が測定できない・測定しなかった個体差」を組み込んだGLM。\n",
    "\n",
    "複数の確率分布を部品とする。\n",
    "* データのバラつきは二項分布・ポアソン分布\n",
    "* 個体のバラつきは正規分布\n",
    "\n",
    "というように表す。\n"
   ]
  },
  {
   "cell_type": "markdown",
   "metadata": {},
   "source": [
    "## 7.1 例題：GLMでは説明できないカウントデータ\n",
    "\n",
    "* 個体数：100\n",
    "* 個体iごとの調査種子数：8個\n",
    "* 生存していた種子数：\\\\( y_i \\\\)個\n",
    "* 葉数：\\\\( x_i \\in \\\\{2,3,4,5,6\\\\}各葉数ごとに20個体 \\\\)\n",
    "\n",
    "生存確率\\\\( q_i \\\\)を線形予測子とロジットリンク関数を組み合わせて、\n",
    "$$ logit(q_i) = \\beta_1 + \\beta_2x_i $$\n",
    "\n",
    "#### 補足：なぜ生存確率を線形予測子とロジットリンク関数の組み合わせとするか\n",
    "6.4節の要約。\n",
    "\n",
    "ロジスティック関数\n",
    "\n",
    "$$ q_i= logistic(z_i) = \\frac{1}{1+exp(-z_i)} $$\n",
    "\n",
    "変形すると\n",
    "\n",
    "$$ log\\frac{q_i}{1-q_i} = z_i $$\n",
    "\n",
    "これがロジット関数(logit function)\n",
    "\n",
    "$$ logit(q_i) = log\\frac{q_i}{1-q_i} $$\n",
    "\n",
    "これが線形予測子に等しいので、\n",
    "\n",
    "$$  \\begin{align}\n",
    "\\frac{q_i}{1-q_i} &= exp(線形予測子)\\\\\n",
    "&= exp(\\beta_1+\\beta_2x_i+\\beta_3f_i)\\\\\n",
    "&= exp(\\beta_1)exp(\\beta_2x_i)exp(\\beta_3f_i)\n",
    " \\end{align} $$"
   ]
  },
  {
   "cell_type": "markdown",
   "metadata": {
    "collapsed": true
   },
   "source": []
  }
 ],
 "metadata": {
  "anaconda-cloud": {},
  "kernelspec": {
   "display_name": "Python 3",
   "language": "python",
   "name": "python3"
  },
  "language_info": {
   "codemirror_mode": {
    "name": "ipython",
    "version": 3
   },
   "file_extension": ".py",
   "mimetype": "text/x-python",
   "name": "python",
   "nbconvert_exporter": "python",
   "pygments_lexer": "ipython3",
   "version": "3.6.1"
  }
 },
 "nbformat": 4,
 "nbformat_minor": 1
}
