{
 "cells": [
  {
   "cell_type": "markdown",
   "metadata": {},
   "source": [
    "# ポワソン分布\n",
    "\n",
    "$$ p(y|\\lambda) = \\frac{\\lambda^yexp(-\\lambda)}{y!} $$"
   ]
  },
  {
   "cell_type": "markdown",
   "metadata": {},
   "source": [
    "## 二項分布からポワソン分布\n",
    "\n",
    "### 二項分布\n",
    "\n",
    "* 事象Aの起きる確率がp, 起きない確率がq\n",
    "* 試行をn回行ってk回事象Aの起きる確率を\\\\( P_k \\\\)とおく\n",
    "\n",
    "$$ P_k = {}_n\\mathrm{C}_kp^k \\cdot q^{n-k} $$\n",
    "\n",
    "確率変数\\\\( X=k(K=0,1,...,n) \\\\)とおくと、\\\\( P_k \\\\)はそのまま確率関数となり\n",
    "離散型の確率分布が定まる。これを二項分布とよび、\\\\( B(n, p) \\\\)で表される。\n",
    "\n",
    "#### 確率変数Xとは\n",
    "全事象\\\\( U=\\\\{a,b,c,...\\\\} \\\\)の１つ１つの根元事象a,b,c,...に割り当てられた数値\\\\( x_1,x_2,x_3,... \\\\)のいずれかを取る変数"
   ]
  },
  {
   "cell_type": "code",
   "execution_count": null,
   "metadata": {
    "collapsed": true
   },
   "outputs": [],
   "source": []
  }
 ],
 "metadata": {
  "kernelspec": {
   "display_name": "Python [conda root]",
   "language": "python",
   "name": "conda-root-py"
  },
  "language_info": {
   "codemirror_mode": {
    "name": "ipython",
    "version": 3
   },
   "file_extension": ".py",
   "mimetype": "text/x-python",
   "name": "python",
   "nbconvert_exporter": "python",
   "pygments_lexer": "ipython3",
   "version": "3.5.2"
  }
 },
 "nbformat": 4,
 "nbformat_minor": 1
}
