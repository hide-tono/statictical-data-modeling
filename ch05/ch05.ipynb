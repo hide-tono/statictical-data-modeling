{
 "cells": [
  {
   "cell_type": "markdown",
   "metadata": {},
   "source": [
    "統計モデルの検定：パラメーターを最尤推定できる統計モデルの検定\n",
    "\n",
    "パラメトリック：比較的少数のパラメーターを持つ。全パラメーターを最尤推定できる"
   ]
  },
  {
   "cell_type": "markdown",
   "metadata": {},
   "source": [
    "## 5.1 統計学的な検定の枠組み\n",
    "\n",
    "* データの確定\n",
    "* 帰無仮説と対立仮説を立てる\n",
    "* 帰無仮説を棄却できるか\n",
    "\n",
    "## 5.2尤度比検定の例題：逸脱度の差を調べる\n",
    "\n",
    "尤度比\n",
    "$$ \\frac{L_1^\\ast}{L_2^\\ast} = \\frac{一定モデルの最大尤度}{xモデルの最大尤度} $$\n",
    "\n",
    "これの対数を取り-2をかける。->逸脱度の差\n",
    "\n",
    "$$ \\Delta D_{1,2} = -2 \\ast (Log_1^\\ast - logL_2^\\ast) $$\n",
    "\n",
    "例題データでは\\\\( \\Delta D_{1,2} = 4.5 \\\\)だった"
   ]
  },
  {
   "cell_type": "markdown",
   "metadata": {},
   "source": [
    "## 5.3 2種類の過誤と統計学的な検定の非対称性\n",
    "\n",
    "* 第一種の過誤：帰無仮説が真のモデルなのに棄却しちゃう\n",
    "* 第二種の過誤：帰無仮説が真のモデルでないのに棄却しない\n",
    "\n",
    "ネイマンピアソンの枠組みでは第一種の過誤の回避だけに専念する。\n",
    "\n",
    "\\\\( \\Delta D_{1,2} \\\\)が珍しいほど大きければ有意とし、帰無仮説を棄却する。"
   ]
  },
  {
   "cell_type": "markdown",
   "metadata": {},
   "source": [
    "## 5.4 帰無仮説を棄却するための有意水準\n",
    "\n",
    "\\\\( \\Delta D_{1,2} \\\\)が4.5より大きくなる確率PをP値という\n",
    "これは好きに決められるが、0.05(1/20)にすることが多い。\n",
    "\n",
    "### 5.4.1 方法(1) 汎用性のあるパラメトリックブートストラップ法\n",
    "\n",
    "一定モデルを真のモデルとしてサンプルを沢山生成し、xモデルについて逸脱度の差の平均を取ってみる。\n",
    "\n",
    "これが4.5より大きくなる場合がどれだけあるかで決める。\n",
    "\n",
    "### 5.4.1 方法(2)カイ二乗分布を使った近似計算法"
   ]
  },
  {
   "cell_type": "markdown",
   "metadata": {},
   "source": [
    "## 5.5「帰無仮説を棄却できない」は「差がない」ではない\n",
    "\n"
   ]
  },
  {
   "cell_type": "markdown",
   "metadata": {},
   "source": [
    "## 5.6 検定とモデル選択,そして推定された統計モデルの解釈\n",
    "\n",
    "* AICは良い予測するモデルを選ぶことが目的。\n",
    "* 統計学的な検定の目的は、帰無仮説の安全な棄却が目的"
   ]
  },
  {
   "cell_type": "code",
   "execution_count": null,
   "metadata": {
    "collapsed": true
   },
   "outputs": [],
   "source": []
  }
 ],
 "metadata": {
  "anaconda-cloud": {},
  "kernelspec": {
   "display_name": "Python [conda root]",
   "language": "python",
   "name": "conda-root-py"
  },
  "language_info": {
   "codemirror_mode": {
    "name": "ipython",
    "version": 3
   },
   "file_extension": ".py",
   "mimetype": "text/x-python",
   "name": "python",
   "nbconvert_exporter": "python",
   "pygments_lexer": "ipython3",
   "version": "3.5.2"
  }
 },
 "nbformat": 4,
 "nbformat_minor": 1
}
